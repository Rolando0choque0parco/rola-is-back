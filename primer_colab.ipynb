{
  "nbformat": 4,
  "nbformat_minor": 0,
  "metadata": {
    "colab": {
      "provenance": [],
      "authorship_tag": "ABX9TyOVa76cTSUFkqLyS5Y1JhhI",
      "include_colab_link": true
    },
    "kernelspec": {
      "name": "python3",
      "display_name": "Python 3"
    },
    "language_info": {
      "name": "python"
    }
  },
  "cells": [
    {
      "cell_type": "markdown",
      "metadata": {
        "id": "view-in-github",
        "colab_type": "text"
      },
      "source": [
        "<a href=\"https://colab.research.google.com/github/Rolando0choque0parco/rola-is-back/blob/main/primer_colab.ipynb\" target=\"_parent\"><img src=\"https://colab.research.google.com/assets/colab-badge.svg\" alt=\"Open In Colab\"/></a>"
      ]
    },
    {
      "cell_type": "markdown",
      "source": [
        "capitalize() : convierte el primer caracter en\n",
        "\n",
        "mayúscula el resto en minúscula\n",
        "\n",
        "\n",
        "\n",
        "\n"
      ],
      "metadata": {
        "id": "px15BGJ-rD3J"
      }
    },
    {
      "cell_type": "code",
      "execution_count": null,
      "metadata": {
        "colab": {
          "base_uri": "https://localhost:8080/",
          "height": 36
        },
        "id": "kZDR6DGjpG-Q",
        "outputId": "a619238d-e9b5-4aaf-f9aa-eb4eb690b2e2"
      },
      "outputs": [
        {
          "output_type": "execute_result",
          "data": {
            "text/plain": [
              "'Rolando choque parco'"
            ],
            "application/vnd.google.colaboratory.intrinsic+json": {
              "type": "string"
            }
          },
          "metadata": {},
          "execution_count": 8
        }
      ],
      "source": [
        "#capitalize\n",
        "palabra = \"rolando choque parco\"\n",
        "palabra.capitalize()"
      ]
    },
    {
      "cell_type": "markdown",
      "source": [
        "metodo count"
      ],
      "metadata": {
        "id": "hOOMGVOAso1Q"
      }
    }
  ]
}